{
 "cells": [
  {
   "cell_type": "markdown",
   "id": "752303f5",
   "metadata": {},
   "source": [
    "# Calculate characteristics of molecular building blocks"
   ]
  },
  {
   "cell_type": "markdown",
   "id": "4eada29c",
   "metadata": {},
   "source": [
    "## set up"
   ]
  },
  {
   "cell_type": "code",
   "execution_count": 2,
   "id": "d5eca507",
   "metadata": {},
   "outputs": [],
   "source": [
    "import os\n",
    "\n",
    "from rdkit import Chem\n",
    "from rdkit.Chem import rdchem\n",
    "from rdkit.Chem import Descriptors\n",
    "import glob\n",
    "\n",
    "import re\n",
    "from mendeleev import C, H, O\n",
    "\n",
    "from scipy import constants\n",
    "from scipy.constants import N_A\n",
    "\n",
    "from MDAnalysis.lib.log import ProgressBar\n",
    "\n",
    "import pandas as pd\n",
    "import numpy as np"
   ]
  },
  {
   "cell_type": "code",
   "execution_count": null,
   "metadata": {},
   "outputs": [],
   "source": [
    "import rdkit\n",
    "rdkit.__version__"
   ]
  },
  {
   "cell_type": "markdown",
   "id": "a807aeb3",
   "metadata": {},
   "source": [
    "## define functions"
   ]
  },
  {
   "cell_type": "code",
   "execution_count": 3,
   "id": "5be727cc",
   "metadata": {},
   "outputs": [],
   "source": [
    "def get_mol_data(fname:str):\n",
    "    \"\"\"\n",
    "    Returns characteristics of a molecule when given a .mol file (fname)\n",
    "    \"\"\"\n",
    "    \n",
    "    #load mol\n",
    "    mol = Chem.MolFromMolFile(fname, removeHs=False,sanitize=False)\n",
    "    Chem.Kekulize(mol)\n",
    "    \n",
    "    #calc no of atoms\n",
    "    n_atoms = mol.GetNumAtoms()\n",
    "    \n",
    "    #calc chemical composition\n",
    "    chemformula = Chem.rdMolDescriptors.CalcMolFormula(mol)\n",
    "    split_formula = re.split(r'\\D+',chemformula)\n",
    "    c = int(split_formula[1])\n",
    "    h = int(split_formula[2])\n",
    "    o = int(split_formula[3]) if len(split_formula)>3 else 0\n",
    "    \n",
    "    hc=h/c  \n",
    "    oc=o/c\n",
    "\n",
    "    #calc mw and mass\n",
    "    mw = Chem.Descriptors.MolWt(mol)\n",
    "    mass = mw / N_A\n",
    "    \n",
    "    #calc domain size\n",
    "    sssr = Chem.GetSSSR(mol)\n",
    "    \n",
    "    #calc aromaticity if small enough molecule\n",
    "    if sssr > 120:\n",
    "        aromaticity = 100\n",
    "        \n",
    "    else:\n",
    "        Chem.SanitizeMol(mol)\n",
    "        \n",
    "        n_aromatic = 0\n",
    "        for no in range(0,int(mol.GetNumAtoms())):\n",
    "            if mol.GetAtomWithIdx(no).GetSymbol()=='C':\n",
    "                if mol.GetAtomWithIdx(no).GetIsAromatic()==True:\n",
    "                    n_aromatic+=1\n",
    "        \n",
    "        aromaticity = n_aromatic/c *100\n",
    "        \n",
    "    f_oh = Chem.MolFromSmarts('[#6]-[O]-[H]', mergeHs=True)\n",
    "    f_carbonyl = Chem.MolFromSmarts('[#6]=[O]')\n",
    "    f_ether = Chem.MolFromSmarts('[#6][#8][#6]')\n",
    "\n",
    "    oh = len(mol.GetSubstructMatches(f_oh))\n",
    "    carbonyl = len(mol.GetSubstructMatches(f_carbonyl))\n",
    "    ether = len(mol.GetSubstructMatches(f_ether))\n",
    "                \n",
    "    return n_atoms, chemformula, c, h, o, hc, oc, mw, mass, sssr, aromaticity, oh, carbonyl, ether"
   ]
  },
  {
   "cell_type": "markdown",
   "id": "2cfceab2",
   "metadata": {},
   "source": [
    "## import file names for .mol files"
   ]
  },
  {
   "cell_type": "code",
   "execution_count": 4,
   "id": "e30fb9b5",
   "metadata": {},
   "outputs": [],
   "source": [
    "file_names = [f for f in os.listdir() if f.endswith('.mol')]\n",
    "file_names.sort()"
   ]
  },
  {
   "cell_type": "code",
   "execution_count": 9,
   "id": "caa30eef",
   "metadata": {
    "scrolled": false
   },
   "outputs": [
    {
     "ename": "NameError",
     "evalue": "name 'glob' is not defined",
     "output_type": "error",
     "traceback": [
      "\u001b[0;31m---------------------------------------------------------------------------\u001b[0m",
      "\u001b[0;31mNameError\u001b[0m                                 Traceback (most recent call last)",
      "\u001b[0;32m<ipython-input-9-2fb2608af179>\u001b[0m in \u001b[0;36m<module>\u001b[0;34m\u001b[0m\n\u001b[0;32m----> 1\u001b[0;31m \u001b[0mfiles\u001b[0m \u001b[0;34m=\u001b[0m \u001b[0mglob\u001b[0m\u001b[0;34m(\u001b[0m\u001b[0;34m'*.txt'\u001b[0m\u001b[0;34m)\u001b[0m\u001b[0;34m\u001b[0m\u001b[0;34m\u001b[0m\u001b[0m\n\u001b[0m\u001b[1;32m      2\u001b[0m \u001b[0;34m\u001b[0m\u001b[0m\n\u001b[1;32m      3\u001b[0m \u001b[0mprint\u001b[0m\u001b[0;34m(\u001b[0m\u001b[0mfiles\u001b[0m\u001b[0;34m)\u001b[0m\u001b[0;34m\u001b[0m\u001b[0;34m\u001b[0m\u001b[0m\n",
      "\u001b[0;31mNameError\u001b[0m: name 'glob' is not defined"
     ]
    }
   ],
   "source": [
    "files = glob.glob('*.txt')\n",
    "print(files)"
   ]
  },
  {
   "cell_type": "markdown",
   "id": "ef04801b",
   "metadata": {},
   "source": [
    "## get mol data and save"
   ]
  },
  {
   "cell_type": "code",
   "execution_count": null,
   "id": "19bdfca9",
   "metadata": {},
   "outputs": [],
   "source": [
    "mol_data = {fname:get_mol_data(fname) for fname in ProgressBar(file_names)}"
   ]
  },
  {
   "cell_type": "code",
   "execution_count": null,
   "id": "c7bf998c",
   "metadata": {},
   "outputs": [],
   "source": [
    "mol_df = pd.DataFrame.from_dict(mol_data, orient='index', columns=['n_atoms', 'chemformula', 'C', 'H', 'O', 'H/C', 'O/C', 'MW', 'mass /g', 'SSSR','aromaticity (%)', 'C-OH','C=O','C-O-C'])\n",
    "mol_df"
   ]
  },
  {
   "cell_type": "code",
   "execution_count": null,
   "id": "20ef40eb",
   "metadata": {},
   "outputs": [],
   "source": [
    "mol_df.to_csv('../molecules_info.csv', float_format='%.3f')"
   ]
  },
  {
   "cell_type": "code",
   "execution_count": null,
   "metadata": {},
   "outputs": [],
   "source": []
  }
 ],
 "metadata": {
  "kernelspec": {
   "display_name": "Python 3",
   "language": "python",
   "name": "python3"
  },
  "toc": {
   "base_numbering": 1,
   "nav_menu": {},
   "number_sections": true,
   "sideBar": true,
   "skip_h1_title": false,
   "title_cell": "Table of Contents",
   "title_sidebar": "Contents",
   "toc_cell": false,
   "toc_position": {},
   "toc_section_display": true,
   "toc_window_display": false
  }
 },
 "nbformat": 4,
 "nbformat_minor": 5
}
